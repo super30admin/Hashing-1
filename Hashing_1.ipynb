{
  "nbformat": 4,
  "nbformat_minor": 0,
  "metadata": {
    "colab": {
      "name": "Hashing 1.ipynb",
      "provenance": []
    },
    "kernelspec": {
      "name": "python3",
      "display_name": "Python 3"
    },
    "language_info": {
      "name": "python"
    }
  },
  "cells": [
    {
      "cell_type": "markdown",
      "source": [
        " Group Anagrams"
      ],
      "metadata": {
        "id": "LtKfghJ4pIvK"
      }
    },
    {
      "cell_type": "code",
      "execution_count": null,
      "metadata": {
        "colab": {
          "base_uri": "https://localhost:8080/"
        },
        "id": "HtAPqD0Rgh0R",
        "outputId": "0c72b3ec-9d5b-40b1-eb08-d38a1c16ee15"
      },
      "outputs": [
        {
          "output_type": "stream",
          "name": "stdout",
          "text": [
            "dict_values([[['eat', 'tea', 'tan', 'ate', 'nat', 'bat']]])\n"
          ]
        }
      ],
      "source": [
        "from collections import defaultdict\n",
        "def groupAnagrams( strs):\n",
        "    \"\"\"\n",
        "    :type strs: List[str]\n",
        "    :rtype: List[List[str]]\n",
        "    \"\"\"\n",
        "    anagrams = defaultdict(list)\n",
        "    for i in range(len(strs)):\n",
        "        anagrams[tuple(sorted(strs[i]))].append(strs[i])\n",
        "    return anagrams.values()\n",
        "print(groupAnagrams([[\"eat\",\"tea\",\"tan\",\"ate\",\"nat\",\"bat\"]]))"
      ]
    },
    {
      "cell_type": "markdown",
      "source": [
        "Isomorphic Strings"
      ],
      "metadata": {
        "id": "vW_GCuhTp5MX"
      }
    },
    {
      "cell_type": "code",
      "source": [
        "\n",
        "def isIsomorphic(s, t):\n",
        "    \"\"\"\n",
        "    :type s: str\n",
        "    :type t: str\n",
        "    :rtype: bool\n",
        "    \"\"\"\n",
        "    if len(s) != len(t):\n",
        "        return False\n",
        "    s_t = {}\n",
        "    t_s = {}\n",
        "    for c1 , c2 in zip(s,t):\n",
        "        if (c1 not in s_t) and (c2 not in t_s):\n",
        "            s_t[c1] = c2\n",
        "            t_s[c2] = c1\n",
        "    \n",
        "        elif (s_t.get(c1) != c2) or (t_s.get(c2) != c1):\n",
        "                return False\n",
        "        return True\n",
        "print(isIsomorphic('paper','title'))"
      ],
      "metadata": {
        "colab": {
          "base_uri": "https://localhost:8080/"
        },
        "id": "f3UgKyQp0eMo",
        "outputId": "d211c20d-be07-4127-9bfb-92a653dc4524"
      },
      "execution_count": null,
      "outputs": [
        {
          "output_type": "stream",
          "name": "stdout",
          "text": [
            "True\n"
          ]
        }
      ]
    },
    {
      "cell_type": "markdown",
      "source": [
        "Word Pattern"
      ],
      "metadata": {
        "id": "ctODndG00kjW"
      }
    },
    {
      "cell_type": "code",
      "source": [
        "\n",
        "def wordPattern(pattern, s):\n",
        "\n",
        "\n",
        "    arr1 = list(pattern) \n",
        "    arr2 = s.split() \n",
        "    n = len(arr2) \n",
        "\n",
        "    if len(arr1) != len(arr2): \n",
        "        return False\n",
        "\n",
        "    d1 = {} \n",
        "    d2 = {} \n",
        "\n",
        "\n",
        "    for i in range(0, n):\n",
        "        \n",
        "        if arr1[i] in d1 and d1[arr1[i]] != arr2[i]:\n",
        "            return False\n",
        "        \n",
        "        if arr2[i] in d2 and d2[arr2[i]] != arr1[i]:\n",
        "            return False\n",
        "        \n",
        "        d1[arr1[i]] = arr2[i] \n",
        "        d2[arr2[i]] = arr1[i] \n",
        "\n",
        "\n",
        "    return True\n",
        "\n",
        "print(wordPattern(\"abba\",\"dog cat dog dog\"))\n",
        "\n"
      ],
      "metadata": {
        "colab": {
          "base_uri": "https://localhost:8080/"
        },
        "id": "fFW1g5Ac4gxq",
        "outputId": "01c6e68b-df5a-4645-d40e-ce2155e0c3fb"
      },
      "execution_count": null,
      "outputs": [
        {
          "output_type": "stream",
          "name": "stdout",
          "text": [
            "False\n"
          ]
        }
      ]
    }
  ]
}